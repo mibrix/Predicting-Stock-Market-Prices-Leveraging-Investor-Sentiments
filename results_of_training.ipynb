{
 "cells": [
  {
   "cell_type": "code",
   "execution_count": 5,
   "metadata": {},
   "outputs": [],
   "source": [
    "import pandas as pd"
   ]
  },
  {
   "cell_type": "code",
   "execution_count": 2,
   "metadata": {},
   "outputs": [],
   "source": [
    "import pandas as pd\n",
    "import json\n",
    "\n",
    "# Create an empty list to store the data\n",
    "data_list = []\n",
    "\n",
    "# Open the JSON file\n",
    "with open('training_results.json', 'r') as file:\n",
    "    # Read each line (each line represents a JSON object)\n",
    "    for line in file:\n",
    "        # Load the JSON object into a Python dictionary\n",
    "        data = json.loads(line)\n",
    "        \n",
    "        # Append the data to the list\n",
    "        data_list.append(data)\n",
    "\n",
    "# Create a DataFrame from the list of dictionaries\n",
    "df = pd.DataFrame(data_list)\n",
    "\n"
   ]
  },
  {
   "cell_type": "code",
   "execution_count": 3,
   "metadata": {},
   "outputs": [
    {
     "data": {
      "text/html": [
       "<div>\n",
       "<style scoped>\n",
       "    .dataframe tbody tr th:only-of-type {\n",
       "        vertical-align: middle;\n",
       "    }\n",
       "\n",
       "    .dataframe tbody tr th {\n",
       "        vertical-align: top;\n",
       "    }\n",
       "\n",
       "    .dataframe thead th {\n",
       "        text-align: right;\n",
       "    }\n",
       "</style>\n",
       "<table border=\"1\" class=\"dataframe\">\n",
       "  <thead>\n",
       "    <tr style=\"text-align: right;\">\n",
       "      <th></th>\n",
       "      <th>ticker</th>\n",
       "      <th>window_size</th>\n",
       "      <th>prediction_length</th>\n",
       "      <th>lstm_units</th>\n",
       "      <th>batch_size</th>\n",
       "      <th>dropout_rate</th>\n",
       "      <th>predict_day</th>\n",
       "      <th>rmse</th>\n",
       "      <th>rmse_random_walk</th>\n",
       "      <th>without_sentiment</th>\n",
       "    </tr>\n",
       "  </thead>\n",
       "  <tbody>\n",
       "    <tr>\n",
       "      <th>0</th>\n",
       "      <td>TSLA</td>\n",
       "      <td>10</td>\n",
       "      <td>15</td>\n",
       "      <td>50</td>\n",
       "      <td>32</td>\n",
       "      <td>0.0</td>\n",
       "      <td>10</td>\n",
       "      <td>[173.43639604691415, 10.3942626953125]</td>\n",
       "      <td>NaN</td>\n",
       "      <td>NaN</td>\n",
       "    </tr>\n",
       "    <tr>\n",
       "      <th>1</th>\n",
       "      <td>TSLA</td>\n",
       "      <td>10</td>\n",
       "      <td>15</td>\n",
       "      <td>50</td>\n",
       "      <td>32</td>\n",
       "      <td>0.0</td>\n",
       "      <td>15</td>\n",
       "      <td>[361.33520303989457, 15.733142089843755]</td>\n",
       "      <td>NaN</td>\n",
       "      <td>NaN</td>\n",
       "    </tr>\n",
       "    <tr>\n",
       "      <th>2</th>\n",
       "      <td>TSLA</td>\n",
       "      <td>10</td>\n",
       "      <td>15</td>\n",
       "      <td>50</td>\n",
       "      <td>32</td>\n",
       "      <td>0.0</td>\n",
       "      <td>20</td>\n",
       "      <td>[312.37332636412464, 14.411737823486325]</td>\n",
       "      <td>NaN</td>\n",
       "      <td>NaN</td>\n",
       "    </tr>\n",
       "    <tr>\n",
       "      <th>3</th>\n",
       "      <td>TSLA</td>\n",
       "      <td>10</td>\n",
       "      <td>15</td>\n",
       "      <td>50</td>\n",
       "      <td>32</td>\n",
       "      <td>0.2</td>\n",
       "      <td>10</td>\n",
       "      <td>[319.7700164698064, 14.091705322265625]</td>\n",
       "      <td>NaN</td>\n",
       "      <td>NaN</td>\n",
       "    </tr>\n",
       "    <tr>\n",
       "      <th>4</th>\n",
       "      <td>TSLA</td>\n",
       "      <td>10</td>\n",
       "      <td>15</td>\n",
       "      <td>50</td>\n",
       "      <td>32</td>\n",
       "      <td>0.2</td>\n",
       "      <td>15</td>\n",
       "      <td>[317.07230930222806, 16.89851684570312]</td>\n",
       "      <td>NaN</td>\n",
       "      <td>NaN</td>\n",
       "    </tr>\n",
       "    <tr>\n",
       "      <th>...</th>\n",
       "      <td>...</td>\n",
       "      <td>...</td>\n",
       "      <td>...</td>\n",
       "      <td>...</td>\n",
       "      <td>...</td>\n",
       "      <td>...</td>\n",
       "      <td>...</td>\n",
       "      <td>...</td>\n",
       "      <td>...</td>\n",
       "      <td>...</td>\n",
       "    </tr>\n",
       "    <tr>\n",
       "      <th>947</th>\n",
       "      <td>GOOG</td>\n",
       "      <td>10</td>\n",
       "      <td>15</td>\n",
       "      <td>50</td>\n",
       "      <td>32</td>\n",
       "      <td>0.0</td>\n",
       "      <td>20</td>\n",
       "      <td>[119.17451143256037, 10.437721252441403]</td>\n",
       "      <td>[36.54331550724154, 5.746766523167799]</td>\n",
       "      <td>True</td>\n",
       "    </tr>\n",
       "    <tr>\n",
       "      <th>948</th>\n",
       "      <td>GOOG</td>\n",
       "      <td>10</td>\n",
       "      <td>15</td>\n",
       "      <td>50</td>\n",
       "      <td>32</td>\n",
       "      <td>0.0</td>\n",
       "      <td>20</td>\n",
       "      <td>[130.7643795290176, 10.973510360717771]</td>\n",
       "      <td>[43.488194602991555, 6.259001456322139]</td>\n",
       "      <td>False</td>\n",
       "    </tr>\n",
       "    <tr>\n",
       "      <th>949</th>\n",
       "      <td>GOOG</td>\n",
       "      <td>10</td>\n",
       "      <td>15</td>\n",
       "      <td>50</td>\n",
       "      <td>32</td>\n",
       "      <td>0.0</td>\n",
       "      <td>20</td>\n",
       "      <td>[113.80704596864814, 10.189563369750974]</td>\n",
       "      <td>[32.0838092089504, 5.3085170879621035]</td>\n",
       "      <td>True</td>\n",
       "    </tr>\n",
       "    <tr>\n",
       "      <th>950</th>\n",
       "      <td>GOOG</td>\n",
       "      <td>10</td>\n",
       "      <td>15</td>\n",
       "      <td>50</td>\n",
       "      <td>32</td>\n",
       "      <td>0.0</td>\n",
       "      <td>20</td>\n",
       "      <td>[133.00627935055525, 11.08554229736328]</td>\n",
       "      <td>[43.39656225655183, 6.272577071181195]</td>\n",
       "      <td>False</td>\n",
       "    </tr>\n",
       "    <tr>\n",
       "      <th>951</th>\n",
       "      <td>GOOG</td>\n",
       "      <td>10</td>\n",
       "      <td>15</td>\n",
       "      <td>50</td>\n",
       "      <td>32</td>\n",
       "      <td>0.0</td>\n",
       "      <td>20</td>\n",
       "      <td>[118.26837602135781, 10.277630233764645]</td>\n",
       "      <td>[34.85467696222652, 5.735065020373922]</td>\n",
       "      <td>True</td>\n",
       "    </tr>\n",
       "  </tbody>\n",
       "</table>\n",
       "<p>952 rows × 10 columns</p>\n",
       "</div>"
      ],
      "text/plain": [
       "    ticker  window_size  prediction_length  lstm_units  batch_size  \\\n",
       "0     TSLA           10                 15          50          32   \n",
       "1     TSLA           10                 15          50          32   \n",
       "2     TSLA           10                 15          50          32   \n",
       "3     TSLA           10                 15          50          32   \n",
       "4     TSLA           10                 15          50          32   \n",
       "..     ...          ...                ...         ...         ...   \n",
       "947   GOOG           10                 15          50          32   \n",
       "948   GOOG           10                 15          50          32   \n",
       "949   GOOG           10                 15          50          32   \n",
       "950   GOOG           10                 15          50          32   \n",
       "951   GOOG           10                 15          50          32   \n",
       "\n",
       "     dropout_rate  predict_day                                      rmse  \\\n",
       "0             0.0           10    [173.43639604691415, 10.3942626953125]   \n",
       "1             0.0           15  [361.33520303989457, 15.733142089843755]   \n",
       "2             0.0           20  [312.37332636412464, 14.411737823486325]   \n",
       "3             0.2           10   [319.7700164698064, 14.091705322265625]   \n",
       "4             0.2           15   [317.07230930222806, 16.89851684570312]   \n",
       "..            ...          ...                                       ...   \n",
       "947           0.0           20  [119.17451143256037, 10.437721252441403]   \n",
       "948           0.0           20   [130.7643795290176, 10.973510360717771]   \n",
       "949           0.0           20  [113.80704596864814, 10.189563369750974]   \n",
       "950           0.0           20   [133.00627935055525, 11.08554229736328]   \n",
       "951           0.0           20  [118.26837602135781, 10.277630233764645]   \n",
       "\n",
       "                            rmse_random_walk without_sentiment  \n",
       "0                                        NaN               NaN  \n",
       "1                                        NaN               NaN  \n",
       "2                                        NaN               NaN  \n",
       "3                                        NaN               NaN  \n",
       "4                                        NaN               NaN  \n",
       "..                                       ...               ...  \n",
       "947   [36.54331550724154, 5.746766523167799]              True  \n",
       "948  [43.488194602991555, 6.259001456322139]             False  \n",
       "949   [32.0838092089504, 5.3085170879621035]              True  \n",
       "950   [43.39656225655183, 6.272577071181195]             False  \n",
       "951   [34.85467696222652, 5.735065020373922]              True  \n",
       "\n",
       "[952 rows x 10 columns]"
      ]
     },
     "execution_count": 3,
     "metadata": {},
     "output_type": "execute_result"
    }
   ],
   "source": [
    "df"
   ]
  },
  {
   "cell_type": "code",
   "execution_count": 20,
   "metadata": {},
   "outputs": [],
   "source": [
    "df_tsla = df[df['ticker'] == 'TSLA'].dropna()"
   ]
  },
  {
   "cell_type": "code",
   "execution_count": 25,
   "metadata": {},
   "outputs": [
    {
     "data": {
      "text/plain": [
       "20.313389987347815"
      ]
     },
     "execution_count": 25,
     "metadata": {},
     "output_type": "execute_result"
    }
   ],
   "source": [
    "sum([i[1] for i in df_tsla['rmse']])/len(df_tsla)"
   ]
  },
  {
   "cell_type": "code",
   "execution_count": 26,
   "metadata": {},
   "outputs": [
    {
     "data": {
      "text/plain": [
       "23.918239396499008"
      ]
     },
     "execution_count": 26,
     "metadata": {},
     "output_type": "execute_result"
    }
   ],
   "source": [
    "sum([i[1] for i in df_tsla['rmse_random_walk']])/len(df_tsla)"
   ]
  },
  {
   "cell_type": "code",
   "execution_count": 8,
   "metadata": {},
   "outputs": [
    {
     "data": {
      "text/plain": [
       "array([nan, 'True', True, False], dtype=object)"
      ]
     },
     "execution_count": 8,
     "metadata": {},
     "output_type": "execute_result"
    }
   ],
   "source": [
    "df['without_sentiment'].unique()"
   ]
  },
  {
   "cell_type": "code",
   "execution_count": 9,
   "metadata": {},
   "outputs": [],
   "source": [
    "def average(df, ticker, sent):\n",
    "    print(ticker)\n",
    "    drop = ['rmse_random_walk']\n",
    "    # if sent is False:\n",
    "    #     drop.append('without_sentiment')\n",
    "    # if sent is True:\n",
    "    #     df = df[df['without_sentiment'].isna()]\n",
    "    if sent is True:\n",
    "        df = df[df['without_sentiment'] == True]\n",
    "    else:\n",
    "        df = df[df['without_sentiment'] == False]\n",
    "    df_ticker = df[df['ticker'] == ticker].dropna(subset=drop)\n",
    "    df_ticker = df_ticker[df_ticker['predict_day'] == 20]\n",
    "    df_ticker = df_ticker.reset_index(drop=True)\n",
    "    if len(df_ticker) == 0:\n",
    "        return None\n",
    "    print(len(df_ticker))\n",
    "    rmse = sum([i[1] for i in df_ticker['rmse']])/len(df_ticker)\n",
    "    rmse_rand = sum([i[1] for i in df_ticker['rmse_random_walk']])/len(df_ticker)\n",
    "    # Find the row with the minimum value in a certain column, e.g., 'rmse'\n",
    "\n",
    "    min_rmse_row = df_ticker.loc[[i[1] for i in df_ticker['rmse']].index(min([i[1] for i in df_ticker['rmse']]))]\n",
    "\n",
    "    # Print the row with the minimum rmse value\n",
    "    #print(min_rmse_row)\n",
    "\n",
    "    return rmse, rmse_rand\n"
   ]
  },
  {
   "cell_type": "code",
   "execution_count": 36,
   "metadata": {},
   "outputs": [
    {
     "data": {
      "text/plain": [
       "array(['TSLA', 'MSFT', 'META', 'AMZN', 'GOOG', 'AAPL', 'NFLX'],\n",
       "      dtype=object)"
      ]
     },
     "execution_count": 36,
     "metadata": {},
     "output_type": "execute_result"
    }
   ],
   "source": [
    "df['ticker'].unique()"
   ]
  },
  {
   "cell_type": "code",
   "execution_count": 10,
   "metadata": {},
   "outputs": [
    {
     "name": "stdout",
     "output_type": "stream",
     "text": [
      "TSLA\n",
      "94\n",
      "(18.392558872953376, 29.097133963717127)\n",
      "TSLA\n",
      "92\n",
      "(24.208297729492188, 36.74918450674666)\n",
      "\n",
      "MSFT\n",
      "None\n",
      "MSFT\n",
      "None\n",
      "\n",
      "META\n",
      "None\n",
      "META\n",
      "None\n",
      "\n",
      "AMZN\n",
      "None\n",
      "AMZN\n",
      "None\n",
      "\n",
      "GOOG\n",
      "41\n",
      "(11.07894311300138, 6.353765807898872)\n",
      "GOOG\n",
      "39\n",
      "(11.834742120596076, 7.089183421143914)\n",
      "\n",
      "AAPL\n",
      "None\n",
      "AAPL\n",
      "None\n",
      "\n",
      "NFLX\n",
      "None\n",
      "NFLX\n",
      "None\n",
      "\n"
     ]
    }
   ],
   "source": [
    "for ticker in df['ticker'].unique():\n",
    "    print(average(df, ticker, True))\n",
    "    print(average(df, ticker, False))\n",
    "    print()"
   ]
  }
 ],
 "metadata": {
  "kernelspec": {
   "display_name": "Python 3",
   "language": "python",
   "name": "python3"
  },
  "language_info": {
   "codemirror_mode": {
    "name": "ipython",
    "version": 3
   },
   "file_extension": ".py",
   "mimetype": "text/x-python",
   "name": "python",
   "nbconvert_exporter": "python",
   "pygments_lexer": "ipython3",
   "version": "3.12.3"
  }
 },
 "nbformat": 4,
 "nbformat_minor": 2
}
