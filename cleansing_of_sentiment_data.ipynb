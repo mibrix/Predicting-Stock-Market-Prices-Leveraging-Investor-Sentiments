{
 "cells": [
  {
   "cell_type": "code",
   "execution_count": null,
   "metadata": {},
   "outputs": [],
   "source": [
    "import pandas as pd"
   ]
  },
  {
   "cell_type": "code",
   "execution_count": null,
   "metadata": {},
   "outputs": [],
   "source": [
    "df_twitter = pd.read_csv('data/stock_tweets.csv')"
   ]
  },
  {
   "cell_type": "code",
   "execution_count": null,
   "metadata": {},
   "outputs": [],
   "source": [
    "pos = []\n",
    "neu = []\n",
    "neg = []\n",
    "with open('pos.txt') as file1, open('negative.txt') as file2, open('neutral.txt') as file3:\n",
    "    for line1, line2, line3 in zip(file1, file2, file3):\n",
    "        pos.append(float(line1))\n",
    "        neu.append(float(line3))\n",
    "        neg.append(float(line2))"
   ]
  },
  {
   "cell_type": "code",
   "execution_count": null,
   "metadata": {},
   "outputs": [],
   "source": [
    "with open('pos1.txt') as file1, open('negative1.txt') as file2, open('neutral1.txt') as file3:\n",
    "    for line1, line2, line3 in zip(file1, file2, file3):\n",
    "        pos.append(float(line1))\n",
    "        neu.append(float(line3))\n",
    "        neg.append(float(line2))"
   ]
  },
  {
   "cell_type": "code",
   "execution_count": null,
   "metadata": {},
   "outputs": [],
   "source": [
    "neg.pop(33513)\n",
    "pos.pop(33513)\n",
    "neu.pop(33513)"
   ]
  },
  {
   "cell_type": "code",
   "execution_count": null,
   "metadata": {},
   "outputs": [],
   "source": [
    "df_twitter['positive'] = pos\n",
    "df_twitter['neutral'] = neu\n",
    "df_twitter['negative'] = neg"
   ]
  },
  {
   "cell_type": "code",
   "execution_count": null,
   "metadata": {},
   "outputs": [],
   "source": [
    "# check whether sum of softmax values is roughly 1\n",
    "for i in zip(df_twitter['positive'], df_twitter['neutral'], df_twitter['negative']):\n",
    "    if sum(i) > 1.001 or sum(i) < 0.99998:\n",
    "        print(sum(i))"
   ]
  },
  {
   "cell_type": "code",
   "execution_count": null,
   "metadata": {},
   "outputs": [],
   "source": [
    "# save the df as csv\n",
    "df_twitter.to_csv('data_sentiment.csv', index=False)"
   ]
  }
 ],
 "metadata": {
  "language_info": {
   "name": "python"
  }
 },
 "nbformat": 4,
 "nbformat_minor": 2
}
